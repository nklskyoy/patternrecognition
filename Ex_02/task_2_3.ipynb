{
 "cells": [
  {
   "cell_type": "code",
   "execution_count": 13,
   "metadata": {
    "collapsed": true,
    "pycharm": {
     "name": "#%%\n"
    }
   },
   "outputs": [],
   "source": [
    "import numpy as np"
   ]
  },
  {
   "cell_type": "code",
   "execution_count": 14,
   "outputs": [
    {
     "name": "stdout",
     "output_type": "stream",
     "text": [
      "Z1+Z2 =  (5+2j)\n",
      "Z1.Z2 =  (14+2j)\n",
      "Z1* =  (3-4j)\n",
      "|Z1| =  5.0\n"
     ]
    }
   ],
   "source": [
    "# subtask_1\n",
    "z1 = complex(3, +4)\n",
    "z2 = complex(2, -2)\n",
    "print(\"Z1+Z2 = \", z1 + z2)\n",
    "print(\"Z1.Z2 = \", z1 * z2)\n",
    "print(\"Z1* = \", z1.conjugate())\n",
    "print(\"|Z1| = \", abs(z1))"
   ],
   "metadata": {
    "collapsed": false,
    "pycharm": {
     "name": "#%%\n"
    }
   }
  },
  {
   "cell_type": "code",
   "execution_count": 15,
   "outputs": [
    {
     "name": "stdout",
     "output_type": "stream",
     "text": [
      "Z1+Z2:\n",
      "[[ 5. -2.]\n",
      " [ 2.  5.]]\n",
      "\n",
      "Z1*Z2:\n",
      "[[14. -2.]\n",
      " [ 2. 14.]]\n",
      "\n",
      "Transpose(Z1):\n",
      "[[ 3.  4.]\n",
      " [-4.  3.]]\n",
      "\n",
      "Sqrt(Det(Z1)):\n",
      "5.000000000000001\n",
      "\n"
     ]
    }
   ],
   "source": [
    "# subtask_2\n",
    "identity = np.identity(2)\n",
    "i = np.array([[0, -1], [1, 0]])\n",
    "z1 = np.array(3 * identity + 4 * i)\n",
    "z2 = np.array(2 * identity - 2 * i)\n",
    "print(\"Z1+Z2:\")\n",
    "print(z1 + z2, end='\\n\\n')\n",
    "print(\"Z1*Z2:\")\n",
    "print(z1 @ z2, end='\\n\\n')\n",
    "print(\"Transpose(Z1):\")\n",
    "print(z1.transpose(), end='\\n\\n')\n",
    "print(\"Sqrt(Det(Z1)):\")\n",
    "print(np.sqrt(np.linalg.det(z1)), end='\\n\\n')"
   ],
   "metadata": {
    "collapsed": false,
    "pycharm": {
     "name": "#%%\n"
    }
   }
  },
  {
   "cell_type": "code",
   "execution_count": 16,
   "outputs": [
    {
     "name": "stdout",
     "output_type": "stream",
     "text": [
      "Z1:\n",
      "[[ 3. -4.]\n",
      " [ 4.  3.]]\n",
      "\n",
      "Z2:\n",
      "[[ 2.  2.]\n",
      " [-2.  2.]]\n"
     ]
    }
   ],
   "source": [
    "print(\"Z1:\")\n",
    "print(z1, end='\\n\\n')\n",
    "print(\"Z2:\")\n",
    "print(z2)"
   ],
   "metadata": {
    "collapsed": false,
    "pycharm": {
     "name": "#%%\n"
    }
   }
  },
  {
   "cell_type": "markdown",
   "source": [
    "We observe that we can represent a complex number a+bi as matrix $$\\begin{bmatrix} a & -b \\\\ b & a \\end{bmatrix}$$ and then:\n",
    "- addition of complex numbers corresponds to their matrix addition\n",
    "- multiplication of complex numbers corresponds to their matrix multiplication\n",
    "- complex conjugate of a complex number corresponds to transpose of its matrix\n",
    "- absolute value of a complex number corresponds to square root of the determinant of its matrix"
   ],
   "metadata": {
    "collapsed": false
   }
  },
  {
   "cell_type": "code",
   "execution_count": 17,
   "outputs": [
    {
     "name": "stdout",
     "output_type": "stream",
     "text": [
      "i*j*k:\n",
      "[[-1  0  0  0]\n",
      " [ 0 -1  0  0]\n",
      " [ 0  0 -1  0]\n",
      " [ 0  0  0 -1]]\n"
     ]
    }
   ],
   "source": [
    "# Bonus-1\n",
    "identity = np.identity(4)\n",
    "i = np.array([[0, -1, 0, 0], [1, 0, 0, 0], [0, 0, 0, -1], [0, 0, 1, 0]])\n",
    "j = np.array([[0, 0, -1, 0], [0, 0, 0, 1], [1, 0, 0, 0], [0, -1, 0, 0]])\n",
    "k = np.array([[0, 0, 0, -1], [0, 0, -1, 0], [0, 1, 0, 0], [1, 0, 0, 0]])\n",
    "print(\"i*j*k:\")\n",
    "print(i @ j @ k)"
   ],
   "metadata": {
    "collapsed": false,
    "pycharm": {
     "name": "#%%\n"
    }
   }
  },
  {
   "cell_type": "code",
   "execution_count": 18,
   "outputs": [
    {
     "name": "stdout",
     "output_type": "stream",
     "text": [
      "i*j*k:\n",
      "[[-1.+0.j  0.+0.j]\n",
      " [ 0.+0.j -1.+0.j]]\n"
     ]
    }
   ],
   "source": [
    "# Bonus-2\n",
    "identity = np.identity(2)\n",
    "i = np.array([[complex(0, 1), 0], [0, complex(0, -1)]])\n",
    "j = np.array([[0, 1], [-1, 0]])\n",
    "k = np.array([[0, complex(0, 1)], [complex(0, 1), 0]])\n",
    "print(\"i*j*k:\")\n",
    "print(i @ j @ k)\n",
    "\n"
   ],
   "metadata": {
    "collapsed": false,
    "pycharm": {
     "name": "#%%\n"
    }
   }
  }
 ],
 "metadata": {
  "kernelspec": {
   "display_name": "Python 3",
   "language": "python",
   "name": "python3"
  },
  "language_info": {
   "codemirror_mode": {
    "name": "ipython",
    "version": 2
   },
   "file_extension": ".py",
   "mimetype": "text/x-python",
   "name": "python",
   "nbconvert_exporter": "python",
   "pygments_lexer": "ipython2",
   "version": "2.7.6"
  }
 },
 "nbformat": 4,
 "nbformat_minor": 0
}